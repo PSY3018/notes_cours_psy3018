{
 "cells": [
  {
   "cell_type": "markdown",
   "id": "c84e02da",
   "metadata": {},
   "source": [
    "[tuto dipy](https://dipy.org/documentation/1.4.1./examples_built/tracking_introduction_eudx/#example-tracking-introduction-eudx)"
   ]
  },
  {
   "cell_type": "code",
   "execution_count": 1,
   "id": "ca79a7a1",
   "metadata": {},
   "outputs": [
    {
     "data": {
      "application/vnd.jupyter.widget-view+json": {
       "model_id": "7622a4296d804a50a3d78e252c118f99",
       "version_major": 2,
       "version_minor": 0
      },
      "text/plain": [
       "  0%|          | 0/5578 [00:00<?, ? MB/s]"
      ]
     },
     "metadata": {},
     "output_type": "display_data"
    },
    {
     "data": {
      "application/vnd.jupyter.widget-view+json": {
       "model_id": "4192e0871d6544b28581ab468018e378",
       "version_major": 2,
       "version_minor": 0
      },
      "text/plain": [
       "  0%|          | 0/1 [00:00<?, ? MB/s]"
      ]
     },
     "metadata": {},
     "output_type": "display_data"
    },
    {
     "data": {
      "application/vnd.jupyter.widget-view+json": {
       "model_id": "4d3f40c97b624a9bb646e2e00e18ea80",
       "version_major": 2,
       "version_minor": 0
      },
      "text/plain": [
       "  0%|          | 0/1 [00:00<?, ? MB/s]"
      ]
     },
     "metadata": {},
     "output_type": "display_data"
    },
    {
     "name": "stdout",
     "output_type": "stream",
     "text": [
      "Saving illustration as tensor_ellipsoids.png\n"
     ]
    },
    {
     "ename": "FileNotFoundError",
     "evalue": "[Errno 2] No such file or directory: 'irm_diffusion/tensor-zoom.png'",
     "output_type": "error",
     "traceback": [
      "\u001b[0;31m---------------------------------------------------------------------------\u001b[0m",
      "\u001b[0;31mFileNotFoundError\u001b[0m                         Traceback (most recent call last)",
      "\u001b[0;32m<ipython-input-1-7bf6676d5f36>\u001b[0m in \u001b[0;36m<module>\u001b[0;34m\u001b[0m\n\u001b[1;32m     66\u001b[0m \u001b[0;34m\u001b[0m\u001b[0m\n\u001b[1;32m     67\u001b[0m \u001b[0mprint\u001b[0m\u001b[0;34m(\u001b[0m\u001b[0;34m'Saving illustration as tensor_ellipsoids.png'\u001b[0m\u001b[0;34m)\u001b[0m\u001b[0;34m\u001b[0m\u001b[0;34m\u001b[0m\u001b[0m\n\u001b[0;32m---> 68\u001b[0;31m window.record(scene, n_frames=1, out_path='irm_diffusion/tensor-zoom.png',\n\u001b[0m\u001b[1;32m     69\u001b[0m               size=(600, 600))\n",
      "\u001b[0;32m~/env/psy3018/lib/python3.8/site-packages/fury/window.py\u001b[0m in \u001b[0;36mrecord\u001b[0;34m(scene, cam_pos, cam_focal, cam_view, out_path, path_numbering, n_frames, az_ang, magnification, size, reset_camera, screen_clip, stereo, verbose)\u001b[0m\n\u001b[1;32m    752\u001b[0m         \u001b[0mcomponents\u001b[0m \u001b[0;34m=\u001b[0m \u001b[0mrenderLarge\u001b[0m\u001b[0;34m.\u001b[0m\u001b[0mGetOutput\u001b[0m\u001b[0;34m(\u001b[0m\u001b[0;34m)\u001b[0m\u001b[0;34m.\u001b[0m\u001b[0mGetNumberOfScalarComponents\u001b[0m\u001b[0;34m(\u001b[0m\u001b[0;34m)\u001b[0m\u001b[0;34m\u001b[0m\u001b[0;34m\u001b[0m\u001b[0m\n\u001b[1;32m    753\u001b[0m         \u001b[0marr\u001b[0m \u001b[0;34m=\u001b[0m \u001b[0mnp\u001b[0m\u001b[0;34m.\u001b[0m\u001b[0mflipud\u001b[0m\u001b[0;34m(\u001b[0m\u001b[0marr\u001b[0m\u001b[0;34m.\u001b[0m\u001b[0mreshape\u001b[0m\u001b[0;34m(\u001b[0m\u001b[0;34m(\u001b[0m\u001b[0mh\u001b[0m\u001b[0;34m,\u001b[0m \u001b[0mw\u001b[0m\u001b[0;34m,\u001b[0m \u001b[0mcomponents\u001b[0m\u001b[0;34m)\u001b[0m\u001b[0;34m)\u001b[0m\u001b[0;34m)\u001b[0m\u001b[0;34m\u001b[0m\u001b[0;34m\u001b[0m\u001b[0m\n\u001b[0;32m--> 754\u001b[0;31m         \u001b[0msave_image\u001b[0m\u001b[0;34m(\u001b[0m\u001b[0marr\u001b[0m\u001b[0;34m,\u001b[0m \u001b[0mfilename\u001b[0m\u001b[0;34m)\u001b[0m\u001b[0;34m\u001b[0m\u001b[0;34m\u001b[0m\u001b[0m\n\u001b[0m\u001b[1;32m    755\u001b[0m \u001b[0;34m\u001b[0m\u001b[0m\n\u001b[1;32m    756\u001b[0m         \u001b[0mang\u001b[0m \u001b[0;34m=\u001b[0m \u001b[0;34m+\u001b[0m\u001b[0maz_ang\u001b[0m\u001b[0;34m\u001b[0m\u001b[0;34m\u001b[0m\u001b[0m\n",
      "\u001b[0;32m~/env/psy3018/lib/python3.8/site-packages/fury/io.py\u001b[0m in \u001b[0;36msave_image\u001b[0;34m(arr, filename, compression_quality, compression_type, use_pillow)\u001b[0m\n\u001b[1;32m    155\u001b[0m     \u001b[0;32mif\u001b[0m \u001b[0muse_pillow\u001b[0m\u001b[0;34m:\u001b[0m\u001b[0;34m\u001b[0m\u001b[0;34m\u001b[0m\u001b[0m\n\u001b[1;32m    156\u001b[0m         \u001b[0mim\u001b[0m \u001b[0;34m=\u001b[0m \u001b[0mImage\u001b[0m\u001b[0;34m.\u001b[0m\u001b[0mfromarray\u001b[0m\u001b[0;34m(\u001b[0m\u001b[0marr\u001b[0m\u001b[0;34m)\u001b[0m\u001b[0;34m\u001b[0m\u001b[0;34m\u001b[0m\u001b[0m\n\u001b[0;32m--> 157\u001b[0;31m         \u001b[0mim\u001b[0m\u001b[0;34m.\u001b[0m\u001b[0msave\u001b[0m\u001b[0;34m(\u001b[0m\u001b[0mfilename\u001b[0m\u001b[0;34m,\u001b[0m \u001b[0mquality\u001b[0m\u001b[0;34m=\u001b[0m\u001b[0mcompression_quality\u001b[0m\u001b[0;34m)\u001b[0m\u001b[0;34m\u001b[0m\u001b[0;34m\u001b[0m\u001b[0m\n\u001b[0m\u001b[1;32m    158\u001b[0m         \u001b[0;32mreturn\u001b[0m\u001b[0;34m\u001b[0m\u001b[0;34m\u001b[0m\u001b[0m\n\u001b[1;32m    159\u001b[0m \u001b[0;34m\u001b[0m\u001b[0m\n",
      "\u001b[0;32m~/env/psy3018/lib/python3.8/site-packages/PIL/Image.py\u001b[0m in \u001b[0;36msave\u001b[0;34m(self, fp, format, **params)\u001b[0m\n\u001b[1;32m   2167\u001b[0m                 \u001b[0mfp\u001b[0m \u001b[0;34m=\u001b[0m \u001b[0mbuiltins\u001b[0m\u001b[0;34m.\u001b[0m\u001b[0mopen\u001b[0m\u001b[0;34m(\u001b[0m\u001b[0mfilename\u001b[0m\u001b[0;34m,\u001b[0m \u001b[0;34m\"r+b\"\u001b[0m\u001b[0;34m)\u001b[0m\u001b[0;34m\u001b[0m\u001b[0;34m\u001b[0m\u001b[0m\n\u001b[1;32m   2168\u001b[0m             \u001b[0;32melse\u001b[0m\u001b[0;34m:\u001b[0m\u001b[0;34m\u001b[0m\u001b[0;34m\u001b[0m\u001b[0m\n\u001b[0;32m-> 2169\u001b[0;31m                 \u001b[0mfp\u001b[0m \u001b[0;34m=\u001b[0m \u001b[0mbuiltins\u001b[0m\u001b[0;34m.\u001b[0m\u001b[0mopen\u001b[0m\u001b[0;34m(\u001b[0m\u001b[0mfilename\u001b[0m\u001b[0;34m,\u001b[0m \u001b[0;34m\"w+b\"\u001b[0m\u001b[0;34m)\u001b[0m\u001b[0;34m\u001b[0m\u001b[0;34m\u001b[0m\u001b[0m\n\u001b[0m\u001b[1;32m   2170\u001b[0m \u001b[0;34m\u001b[0m\u001b[0m\n\u001b[1;32m   2171\u001b[0m         \u001b[0;32mtry\u001b[0m\u001b[0;34m:\u001b[0m\u001b[0;34m\u001b[0m\u001b[0;34m\u001b[0m\u001b[0m\n",
      "\u001b[0;31mFileNotFoundError\u001b[0m: [Errno 2] No such file or directory: 'irm_diffusion/tensor-zoom.png'"
     ]
    }
   ],
   "source": [
    "# Import des modules\n",
    "import numpy as np\n",
    "from dipy.io.image import load_nifti, save_nifti\n",
    "from dipy.io.gradients import read_bvals_bvecs\n",
    "from dipy.core.gradients import gradient_table\n",
    "import dipy.reconst.dti as dti\n",
    "from dipy.data import get_fnames\n",
    "\n",
    "# Télécharge des données HARDI\n",
    "hardi_fname, hardi_bval_fname, hardi_bvec_fname = get_fnames('stanford_hardi')\n",
    "data, affine = load_nifti(hardi_fname)\n",
    "bvals, bvecs = read_bvals_bvecs(hardi_bval_fname, hardi_bvec_fname)\n",
    "gtab = gradient_table(bvals, bvecs)\n",
    "\n",
    "# Masque les données et estime les tenseurs\n",
    "from dipy.segment.mask import median_otsu\n",
    "data = data[:, :, 28:29, :]\n",
    "maskdata, mask = median_otsu(data, vol_idx=range(10, 50), median_radius=3,\n",
    "                             numpass=1, autocrop=True, dilate=2)\n",
    "tenmodel = dti.TensorModel(gtab)\n",
    "tenfit = tenmodel.fit(maskdata)\n",
    "\n",
    "# Génère métriques dérivées (FA etc)\n",
    "from dipy.reconst.dti import fractional_anisotropy, color_fa\n",
    "FA = fractional_anisotropy(tenfit.evals)\n",
    "FA[np.isnan(FA)] = 0\n",
    "FA = np.clip(FA, 0, 1)\n",
    "RGB = color_fa(FA, tenfit.evecs)\n",
    "MD1 = dti.mean_diffusivity(tenfit.evals)\n",
    "\n",
    "# Figure\n",
    "from dipy.data import get_sphere\n",
    "sphere = get_sphere('repulsion724')\n",
    "from dipy.viz import window, actor\n",
    "scene = window.Scene()\n",
    "# evals = tenfit.evals\n",
    "# evecs = tenfit.evecs\n",
    "# cfa = RGB\n",
    "# # boost the colors\n",
    "# cfa *= 2\n",
    "# cfa[cfa > 1] = 1\n",
    "# scene.set_camera(\n",
    "#                  position=(-100, 60, 75),\n",
    "#                  focal_point=(0, 0, -75),\n",
    "#                  view_up=(0, 0, 1)\n",
    "#                 )\n",
    "# scene.add(actor.tensor_slicer(evals, evecs, scalar_colors=cfa, sphere=sphere,\n",
    "#                               scale=0.3))\n",
    "# window.record(scene, n_frames=1, out_path='irm_diffusion/tensor-slice.png',\n",
    "#               size=(800, 800))\n",
    "\n",
    "# Figure zoom\n",
    "# scene.clear()\n",
    "evals = tenfit.evals[16:26, 54:64, :]\n",
    "evecs = tenfit.evecs[16:26, 54:64, :]\n",
    "\n",
    "# boost the colors\n",
    "RGB *= 2\n",
    "RGB[RGB>1] = 1\n",
    "cfa = RGB[16:26, 54:64, :]\n",
    "scene.set_camera(position=(-176.42, 118.52, 150),\n",
    "                 focal_point=(0, 0, 75),\n",
    "                 view_up=(0, 0, 1))\n",
    "scene.add(actor.tensor_slicer(evals, evecs, scalar_colors=cfa, sphere=sphere,\n",
    "                              scale=0.3))\n",
    "\n",
    "print('Saving illustration as tensor_ellipsoids.png')\n",
    "window.record(scene, n_frames=1, out_path='irm_diffusion/tensor-zoom.png',\n",
    "              size=(600, 600))"
   ]
  },
  {
   "cell_type": "code",
   "execution_count": 14,
   "id": "da7490a5",
   "metadata": {},
   "outputs": [
    {
     "data": {
      "text/plain": [
       "Text(0.5, 1.0, 'masque de la matière blanche')"
      ]
     },
     "execution_count": 14,
     "metadata": {},
     "output_type": "execute_result"
    },
    {
     "data": {
      "image/png": "[encoded data removed]",
      "text/plain": [
       "<Figure size 864x432 with 2 Axes>"
      ]
     },
     "metadata": {},
     "output_type": "display_data"
    }
   ],
   "source": [
    "from matplotlib import pyplot as plt\n",
    "MD = MD1\n",
    "MD[mask==0] = 0\n",
    "threshold_fa = 0.3\n",
    "mask_wm = FA > threshold_fa\n",
    "\n",
    "\n",
    "fig1, ax = plt.subplots(1, 2, figsize=(12, 6),\n",
    "                        subplot_kw={'xticks': [], 'yticks': []})\n",
    "\n",
    "fig1.subplots_adjust(hspace=0.3, wspace=0.05)\n",
    "ax.flat[0].imshow(np.squeeze(FA).T, origin='lower',\n",
    "                  cmap='gray', vmin=0, vmax=1)\n",
    "ax.flat[0].set_title('carte d\\'anisotropie fractionnelle')\n",
    "ax.flat[1].imshow(np.squeeze(mask_wm).T, origin='lower',\n",
    "                  cmap='gray')\n",
    "ax.flat[1].set_title('masque de la matière blanche')\n"
   ]
  },
  {
   "cell_type": "code",
   "execution_count": 19,
   "id": "2e4386be",
   "metadata": {},
   "outputs": [
    {
     "data": {
      "text/plain": [
       "(81, 106, 1, 160)"
      ]
     },
     "execution_count": 19,
     "metadata": {},
     "output_type": "execute_result"
    }
   ],
   "source": [
    "data.shape"
   ]
  },
  {
   "cell_type": "code",
   "execution_count": 16,
   "id": "f4ba39af",
   "metadata": {},
   "outputs": [
    {
     "ename": "ValueError",
     "evalue": "Mask is not the same shape as data.",
     "output_type": "error",
     "traceback": [
      "\u001b[0;31m---------------------------------------------------------------------------\u001b[0m",
      "\u001b[0;31mValueError\u001b[0m                                Traceback (most recent call last)",
      "\u001b[0;32m<ipython-input-16-11b837b5ab10>\u001b[0m in \u001b[0;36m<module>\u001b[0;34m\u001b[0m\n\u001b[1;32m      8\u001b[0m \u001b[0;34m\u001b[0m\u001b[0m\n\u001b[1;32m      9\u001b[0m \u001b[0;32mfrom\u001b[0m \u001b[0mdipy\u001b[0m\u001b[0;34m.\u001b[0m\u001b[0mdirection\u001b[0m \u001b[0;32mimport\u001b[0m \u001b[0mpeaks_from_model\u001b[0m\u001b[0;34m\u001b[0m\u001b[0;34m\u001b[0m\u001b[0m\n\u001b[0;32m---> 10\u001b[0;31m csa_peaks = peaks_from_model(tenfit, data, sphere,\n\u001b[0m\u001b[1;32m     11\u001b[0m                              \u001b[0mrelative_peak_threshold\u001b[0m\u001b[0;34m=\u001b[0m\u001b[0;36m.8\u001b[0m\u001b[0;34m,\u001b[0m\u001b[0;34m\u001b[0m\u001b[0;34m\u001b[0m\u001b[0m\n\u001b[1;32m     12\u001b[0m                              \u001b[0mmin_separation_angle\u001b[0m\u001b[0;34m=\u001b[0m\u001b[0;36m45\u001b[0m\u001b[0;34m,\u001b[0m\u001b[0;34m\u001b[0m\u001b[0;34m\u001b[0m\u001b[0m\n",
      "\u001b[0;32m~/env/psy3018/lib/python3.8/site-packages/dipy/utils/deprecator.py\u001b[0m in \u001b[0;36mwrapper\u001b[0;34m(*args, **kwargs)\u001b[0m\n\u001b[1;32m    404\u001b[0m                     \u001b[0mwarnings\u001b[0m\u001b[0;34m.\u001b[0m\u001b[0mwarn\u001b[0m\u001b[0;34m(\u001b[0m\u001b[0mmessage\u001b[0m\u001b[0;34m,\u001b[0m \u001b[0mwarn_class\u001b[0m\u001b[0;34m,\u001b[0m \u001b[0mstacklevel\u001b[0m\u001b[0;34m=\u001b[0m\u001b[0;36m2\u001b[0m\u001b[0;34m)\u001b[0m\u001b[0;34m\u001b[0m\u001b[0;34m\u001b[0m\u001b[0m\n\u001b[1;32m    405\u001b[0m \u001b[0;34m\u001b[0m\u001b[0m\n\u001b[0;32m--> 406\u001b[0;31m             \u001b[0;32mreturn\u001b[0m \u001b[0mfunction\u001b[0m\u001b[0;34m(\u001b[0m\u001b[0;34m*\u001b[0m\u001b[0margs\u001b[0m\u001b[0;34m,\u001b[0m \u001b[0;34m**\u001b[0m\u001b[0mkwargs\u001b[0m\u001b[0;34m)\u001b[0m\u001b[0;34m\u001b[0m\u001b[0;34m\u001b[0m\u001b[0m\n\u001b[0m\u001b[1;32m    407\u001b[0m \u001b[0;34m\u001b[0m\u001b[0m\n\u001b[1;32m    408\u001b[0m         \u001b[0;32mreturn\u001b[0m \u001b[0mwrapper\u001b[0m\u001b[0;34m\u001b[0m\u001b[0;34m\u001b[0m\u001b[0m\n",
      "\u001b[0;32m~/env/psy3018/lib/python3.8/site-packages/dipy/direction/peaks.py\u001b[0m in \u001b[0;36mpeaks_from_model\u001b[0;34m(model, data, sphere, relative_peak_threshold, min_separation_angle, mask, return_odf, return_sh, gfa_thr, normalize_peaks, sh_order, sh_basis_type, npeaks, B, invB, parallel, num_processes)\u001b[0m\n\u001b[1;32m    477\u001b[0m     \u001b[0;32melse\u001b[0m\u001b[0;34m:\u001b[0m\u001b[0;34m\u001b[0m\u001b[0;34m\u001b[0m\u001b[0m\n\u001b[1;32m    478\u001b[0m         \u001b[0;32mif\u001b[0m \u001b[0mmask\u001b[0m\u001b[0;34m.\u001b[0m\u001b[0mshape\u001b[0m \u001b[0;34m!=\u001b[0m \u001b[0mshape\u001b[0m\u001b[0;34m:\u001b[0m\u001b[0;34m\u001b[0m\u001b[0;34m\u001b[0m\u001b[0m\n\u001b[0;32m--> 479\u001b[0;31m             \u001b[0;32mraise\u001b[0m \u001b[0mValueError\u001b[0m\u001b[0;34m(\u001b[0m\u001b[0;34m\"Mask is not the same shape as data.\"\u001b[0m\u001b[0;34m)\u001b[0m\u001b[0;34m\u001b[0m\u001b[0;34m\u001b[0m\u001b[0m\n\u001b[0m\u001b[1;32m    480\u001b[0m \u001b[0;34m\u001b[0m\u001b[0m\n\u001b[1;32m    481\u001b[0m     \u001b[0mgfa_array\u001b[0m \u001b[0;34m=\u001b[0m \u001b[0mnp\u001b[0m\u001b[0;34m.\u001b[0m\u001b[0mzeros\u001b[0m\u001b[0;34m(\u001b[0m\u001b[0mshape\u001b[0m\u001b[0;34m)\u001b[0m\u001b[0;34m\u001b[0m\u001b[0;34m\u001b[0m\u001b[0m\n",
      "\u001b[0;31mValueError\u001b[0m: Mask is not the same shape as data."
     ]
    }
   ],
   "source": [
    "from dipy.tracking import utils\n",
    "\n",
    "seeds = utils.seeds_from_mask(mask_wm, affine, density=[2, 2, 2])\n",
    "\n",
    "from dipy.tracking.stopping_criterion import ThresholdStoppingCriterion\n",
    "\n",
    "stopping_criterion = ThresholdStoppingCriterion(FA, threshold_fa)\n",
    "\n",
    "from dipy.direction import peaks_from_model\n",
    "csa_peaks = peaks_from_model(tenfit, data, sphere,\n",
    "                             relative_peak_threshold=.8,\n",
    "                             min_separation_angle=45,\n",
    "                             mask=mask_wm)\n",
    "\n",
    "\n",
    "from dipy.tracking.local_tracking import LocalTracking\n",
    "from dipy.tracking.streamline import Streamlines\n",
    "\n",
    "# Initialization of LocalTracking. The computation happens in the next step.\n",
    "streamlines_generator = LocalTracking(csa_peaks, stopping_criterion, seeds,\n",
    "                                      affine=affine, step_size=.5)\n",
    "# Generate streamlines object\n",
    "streamlines = Streamlines(streamlines_generator)"
   ]
  },
  {
   "cell_type": "code",
   "execution_count": 9,
   "id": "121e2446",
   "metadata": {},
   "outputs": [],
   "source": [
    "evals = tenfit.evals[16:26, 54:64, :]\n",
    "evecs = tenfit.evecs[16:26, 54:64, :]"
   ]
  }
 ],
 "metadata": {
  "kernelspec": {
   "display_name": "Python 3",
   "language": "python",
   "name": "python3"
  },
  "language_info": {
   "codemirror_mode": {
    "name": "ipython",
    "version": 3
   },
   "file_extension": ".py",
   "mimetype": "text/x-python",
   "name": "python",
   "nbconvert_exporter": "python",
   "pygments_lexer": "ipython3",
   "version": "3.8.10"
  }
 },
 "nbformat": 4,
 "nbformat_minor": 5
}
