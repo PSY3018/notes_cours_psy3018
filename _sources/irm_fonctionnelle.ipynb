{
 "cells": [
  {
   "cell_type": "markdown",
   "id": "68d6caf9",
   "metadata": {},
   "source": [
    "(irmf-chapitre)=\n",
    "# IRM fonctionnelle\n",
    "\n",
    "<table>\n",
    "  <tr>\n",
    "    <td align=\"center\">\n",
    "      <a href=\"https://github.com/anproulx\">\n",
    "        <img src=\"https://avatars.githubusercontent.com/u/65092948?v=4?s=100\" width=\"100px;\" alt=\"\"/>\n",
    "        <br /><sub><b>Andréanne Proulx</b></sub>\n",
    "      </a>\n",
    "      <br />\n",
    "        <a title=\"Contenu\">🤔</a>\n",
    "    </td>\n",
    "    <td align=\"center\">\n",
    "      <a href=\"https://github.com/pbellec\">\n",
    "        <img src=\"https://avatars.githubusercontent.com/u/1670887?v=4?s=100\" width=\"100px;\" alt=\"\"/>\n",
    "        <br /><sub><b>Pierre bellec</b></sub>\n",
    "      </a>\n",
    "      <br />\n",
    "        <a title=\"Contenu\">🤔</a>\n",
    "    </td>\n",
    "  </tr>\n",
    "</table>\n",
    "\n",
    "```{warning}\n",
    "Ce chapitre est en cours de développement. Il se peut que l'information soit incomplète, ou sujette à changement.\n",
    "```\n",
    "\n",
    "## Objectifs du cours\n",
    "\n",
    "## Couplage neurovasculaire"
   ]
  },
  {
   "cell_type": "code",
   "execution_count": 1,
   "id": "8728f51b",
   "metadata": {
    "tags": [
     "hide-input"
    ]
   },
   "outputs": [
    {
     "data": {
      "text/html": [
       "<iframe width=\"560\" height=\"315\" src=\"https://www.youtube.com/embed/SWOww_Ensqg\" title=\"YouTube video player\" frameborder=\"0\" allow=\"accelerometer; autoplay; clipboard-write; encrypted-media; gyroscope; picture-in-picture\" allowfullscreen></iframe>"
      ],
      "text/plain": [
       "<IPython.core.display.HTML object>"
      ]
     },
     "execution_count": 1,
     "metadata": {},
     "output_type": "execute_result"
    }
   ],
   "source": [
    "from IPython.display import HTML\n",
    "import warnings\n",
    "warnings.filterwarnings(\"ignore\")\n",
    "\n",
    "# Youtube\n",
    "HTML('<iframe width=\"560\" height=\"315\" src=\"https://www.youtube.com/embed/SWOww_Ensqg\" title=\"YouTube video player\" frameborder=\"0\" allow=\"accelerometer; autoplay; clipboard-write; encrypted-media; gyroscope; picture-in-picture\" allowfullscreen></iframe>')"
   ]
  },
  {
   "cell_type": "markdown",
   "id": "81d525c1",
   "metadata": {},
   "source": [
    "## Modèle de réponse hémodynamique"
   ]
  },
  {
   "cell_type": "code",
   "execution_count": 2,
   "id": "e77d5f93",
   "metadata": {
    "tags": [
     "hide-input"
    ]
   },
   "outputs": [
    {
     "data": {
      "text/html": [
       "<iframe width=\"560\" height=\"315\" src=\"https://www.youtube.com/embed/91JVOAwOOyE\" title=\"YouTube video player\" frameborder=\"0\" allow=\"accelerometer; autoplay; clipboard-write; encrypted-media; gyroscope; picture-in-picture\" allowfullscreen></iframe>"
      ],
      "text/plain": [
       "<IPython.core.display.HTML object>"
      ]
     },
     "execution_count": 2,
     "metadata": {},
     "output_type": "execute_result"
    }
   ],
   "source": [
    "from IPython.display import HTML\n",
    "import warnings\n",
    "warnings.filterwarnings(\"ignore\")\n",
    "\n",
    "# Youtube\n",
    "HTML('<iframe width=\"560\" height=\"315\" src=\"https://www.youtube.com/embed/91JVOAwOOyE\" title=\"YouTube video player\" frameborder=\"0\" allow=\"accelerometer; autoplay; clipboard-write; encrypted-media; gyroscope; picture-in-picture\" allowfullscreen></iframe>')"
   ]
  },
  {
   "cell_type": "markdown",
   "id": "a2745902",
   "metadata": {},
   "source": [
    "### Prétraitement des données d'IRMf"
   ]
  },
  {
   "cell_type": "code",
   "execution_count": 3,
   "id": "6e19f8ec",
   "metadata": {
    "tags": [
     "hide-input"
    ]
   },
   "outputs": [
    {
     "data": {
      "text/html": [
       "<iframe width=\"560\" height=\"315\" src=\"https://www.youtube.com/embed/-u0WCHGi8_A\" title=\"YouTube video player\" frameborder=\"0\" allow=\"accelerometer; autoplay; clipboard-write; encrypted-media; gyroscope; picture-in-picture\" allowfullscreen></iframe>"
      ],
      "text/plain": [
       "<IPython.core.display.HTML object>"
      ]
     },
     "execution_count": 3,
     "metadata": {},
     "output_type": "execute_result"
    }
   ],
   "source": [
    "from IPython.display import HTML\n",
    "import warnings\n",
    "warnings.filterwarnings(\"ignore\")\n",
    "\n",
    "# Youtube\n",
    "HTML('<iframe width=\"560\" height=\"315\" src=\"https://www.youtube.com/embed/-u0WCHGi8_A\" title=\"YouTube video player\" frameborder=\"0\" allow=\"accelerometer; autoplay; clipboard-write; encrypted-media; gyroscope; picture-in-picture\" allowfullscreen></iframe>')"
   ]
  },
  {
   "cell_type": "markdown",
   "id": "e9b0cc57",
   "metadata": {},
   "source": [
    "### Cartes d'activation"
   ]
  },
  {
   "cell_type": "code",
   "execution_count": 4,
   "id": "7b933587",
   "metadata": {
    "tags": [
     "hide-input"
    ]
   },
   "outputs": [
    {
     "data": {
      "text/html": [
       "<iframe width=\"560\" height=\"315\" src=\"https://www.youtube.com/embed/ayr6xFw2qPs\" title=\"YouTube video player\" frameborder=\"0\" allow=\"accelerometer; autoplay; clipboard-write; encrypted-media; gyroscope; picture-in-picture\" allowfullscreen></iframe>"
      ],
      "text/plain": [
       "<IPython.core.display.HTML object>"
      ]
     },
     "execution_count": 4,
     "metadata": {},
     "output_type": "execute_result"
    }
   ],
   "source": [
    "from IPython.display import HTML\n",
    "import warnings\n",
    "warnings.filterwarnings(\"ignore\")\n",
    "\n",
    "# Youtube\n",
    "HTML('<iframe width=\"560\" height=\"315\" src=\"https://www.youtube.com/embed/ayr6xFw2qPs\" title=\"YouTube video player\" frameborder=\"0\" allow=\"accelerometer; autoplay; clipboard-write; encrypted-media; gyroscope; picture-in-picture\" allowfullscreen></iframe>')"
   ]
  },
  {
   "cell_type": "markdown",
   "id": "5e2a7899",
   "metadata": {},
   "source": [
    "### Conclusions et références suggérées\n",
    "\n",
    "### Références\n",
    "\n",
    "```{bibliography}\n",
    ":filter: docname in docnames\n",
    "```\n",
    "\n",
    "## Exercices\n",
    "\n",
    "### Exercice 1\n",
    "Choisissez la bonne réponse. Des données d’IRMf sont en général...\n",
    " 1. Une image du cerveau.\n",
    " 2. Une dizaine d’images du cerveau.\n",
    " 3. Des centaines d’images du cerveau.\n",
    "\n",
    "### Exercice 2\n",
    "Qu’est ce que le signal BOLD? (vrai / faux).\n",
    " 1. Un signal très courageux.\n",
    " 2. Une séquence pondérée en T2*.\n",
    " 3. Un type de séquence d’IRM qui mesure l’activité du cerveau.\n",
    " 4. Un type de séquence d’IRM qui mesure l’oxygénation du sang.\n",
    "\n",
    "### Exercice 3\n",
    "Choisissez la bonne réponse. Le signal BOLD dépend sur...\n",
    " 1. Le flux sanguin local.\n",
    " 2. Le volume sanguin local.\n",
    " 3. La concentration relative en désoxyhémoglobine.\n",
    " 4. Toutes les réponses ci-dessus.\n",
    "\n",
    "### Exercice 4\n",
    "Vrai / faux. Le principe d’additivité de la réponse hémodynamique est...\n",
    " 1. Un modèle mathématique.\n",
    " 2. Une propriété bien connue du couplage neurovasculaire.\n",
    " 3. Une hypothèse courante, en partie confirmée expérimentalement.\n",
    "\n",
    "### Exercice 4\n",
    "Quel est l’événement principal à l’origine des changements de signal mesuré par le BOLD?\n",
    "\n",
    "### Exercice 5\n",
    "Dans quelle portion de l’arbre vasculaire observe-t-on les changements principaux liés à l’activité neuronale locale?\n",
    "\n",
    "### Exercice 6\n",
    "Vrai / faux?\n",
    " 1. La réponse hémodynamique démarre immédiatement après l’excitation neuronale.\n",
    " 2. La réponse hémodynamique est visible une seconde après l’excitation neuronale.\n",
    " 3. La réponse hémodynamique est maximale 2 secondes après l’excitation neuronale.\n",
    " 4. La réponse hémodynamique est toujours visible 7 secondes après l’excitation neuronale.\n",
    " 5. La réponse hémodynamique est toujours visible 30 secondes après l’excitation neuronale.\n",
    "\n",
    "### Exercice 7\n",
    "Vrai / faux / peut-être? (expliquez pourquoi)\n",
    " 1. Les données IRM fonctionnelle et structurelle doivent être réalignées pour générer une carte d’activation.\n",
    " 2. Les données d’IRMf “brutes” (avant prétraitement) sont inutilisables pour générer une carte d’activation.\n",
    " 3. Le lissage spatial est important, même pour une analyse individuelle.\n",
    "\n",
    "### Exercice 8\n",
    "On compare l’activation pour une tâche de mémoire dans le cortex frontal entre deux groupes de participants: des sujets sains et des sujets âgés (N=20 par groupe). Contrairement à nos hypothèses, on ne trouve aucune différence. Donnez trois raisons qui peuvent expliquer ce résultat."
   ]
  }
 ],
 "metadata": {
  "jupytext": {
   "cell_metadata_filter": "-all",
   "formats": "md:myst",
   "text_representation": {
    "extension": ".md",
    "format_name": "myst",
    "format_version": 0.13,
    "jupytext_version": "1.10.3"
   }
  },
  "kernelspec": {
   "display_name": "Python 3",
   "language": "python",
   "name": "python3"
  },
  "language_info": {
   "codemirror_mode": {
    "name": "ipython",
    "version": 3
   },
   "file_extension": ".py",
   "mimetype": "text/x-python",
   "name": "python",
   "nbconvert_exporter": "python",
   "pygments_lexer": "ipython3",
   "version": "3.9.5"
  },
  "source_map": [
   14,
   46,
   55,
   58,
   67,
   70,
   79,
   82,
   91
  ]
 },
 "nbformat": 4,
 "nbformat_minor": 5
}