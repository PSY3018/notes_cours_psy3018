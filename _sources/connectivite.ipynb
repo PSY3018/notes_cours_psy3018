{
 "cells": [
  {
   "cell_type": "markdown",
   "id": "bca9be81",
   "metadata": {},
   "source": [
    "(connectivite-chapitre)=\n",
    "# Connectivité fonctionnelle\n",
    "\n",
    "<table>\n",
    "  <tr>\n",
    "    <td align=\"center\">\n",
    "      <a href=\"https://github.com/sangfrois\">\n",
    "        <img src=\"https://avatars.githubusercontent.com/u/38385719?v=4?s=100\" width=\"100px;\" alt=\"\"/>\n",
    "        <br /><sub><b>François Lespinasse</b></sub>\n",
    "      </a>\n",
    "      <br />\n",
    "        <a title=\"Contenu\">🤔</a>\n",
    "    </td>\n",
    "    <td align=\"center\">\n",
    "      <a href=\"https://github.com/pbellec\">\n",
    "        <img src=\"https://avatars.githubusercontent.com/u/1670887?v=4?s=100\" width=\"100px;\" alt=\"\"/>\n",
    "        <br /><sub><b>Pierre bellec</b></sub>\n",
    "      </a>\n",
    "      <br />\n",
    "        <a title=\"Contenu\">🤔</a>\n",
    "    </td>\n",
    "  </tr>\n",
    "</table>\n",
    "\n",
    "```{warning}\n",
    "Ce chapitre est en cours de développement. Il se peut que l'information soit incomplète, ou sujette à changement.\n",
    "```\n",
    "## Objectifs du cours\n",
    "\n",
    "## Carte de connectivité fonctionnelle"
   ]
  },
  {
   "cell_type": "code",
   "execution_count": 1,
   "id": "e8c1544e",
   "metadata": {
    "tags": [
     "hide-input"
    ]
   },
   "outputs": [
    {
     "data": {
      "text/html": [
       "<iframe width=\"560\" height=\"315\" src=\"https://www.youtube.com/embed/sRL6MyBG_VE\" title=\"YouTube video player\" frameborder=\"0\" allow=\"accelerometer; autoplay; clipboard-write; encrypted-media; gyroscope; picture-in-picture\" allowfullscreen></iframe>"
      ],
      "text/plain": [
       "<IPython.core.display.HTML object>"
      ]
     },
     "execution_count": 1,
     "metadata": {},
     "output_type": "execute_result"
    }
   ],
   "source": [
    "from IPython.display import HTML\n",
    "import warnings\n",
    "warnings.filterwarnings(\"ignore\")\n",
    "\n",
    "# Youtube\n",
    "HTML('<iframe width=\"560\" height=\"315\" src=\"https://www.youtube.com/embed/sRL6MyBG_VE\" title=\"YouTube video player\" frameborder=\"0\" allow=\"accelerometer; autoplay; clipboard-write; encrypted-media; gyroscope; picture-in-picture\" allowfullscreen></iframe>')"
   ]
  },
  {
   "cell_type": "markdown",
   "id": "6084709a",
   "metadata": {},
   "source": [
    "## Activité intrinsèque et activité évoquée"
   ]
  },
  {
   "cell_type": "code",
   "execution_count": 2,
   "id": "b68f9e67",
   "metadata": {
    "tags": [
     "hide-input"
    ]
   },
   "outputs": [
    {
     "data": {
      "text/html": [
       "<iframe width=\"560\" height=\"315\" src=\"https://www.youtube.com/embed/OTWDQgEVOIA\" title=\"YouTube video player\" frameborder=\"0\" allow=\"accelerometer; autoplay; clipboard-write; encrypted-media; gyroscope; picture-in-picture\" allowfullscreen></iframe>"
      ],
      "text/plain": [
       "<IPython.core.display.HTML object>"
      ]
     },
     "execution_count": 2,
     "metadata": {},
     "output_type": "execute_result"
    }
   ],
   "source": [
    "from IPython.display import HTML\n",
    "import warnings\n",
    "warnings.filterwarnings(\"ignore\")\n",
    "\n",
    "# Youtube\n",
    "HTML('<iframe width=\"560\" height=\"315\" src=\"https://www.youtube.com/embed/OTWDQgEVOIA\" title=\"YouTube video player\" frameborder=\"0\" allow=\"accelerometer; autoplay; clipboard-write; encrypted-media; gyroscope; picture-in-picture\" allowfullscreen></iframe>')"
   ]
  },
  {
   "cell_type": "markdown",
   "id": "9cb554c9",
   "metadata": {},
   "source": [
    "## Réseaux fonctionnels\n",
    "Note pour plus de ressources voir cette [présentation](https://pbellec.github.io/functional_parcellation/#/) et les [notebooks correspondants](https://github.com/pbellec/functional_parcellation).\n",
    "\n",
    "## Applications"
   ]
  },
  {
   "cell_type": "code",
   "execution_count": 3,
   "id": "2eeee176",
   "metadata": {
    "tags": [
     "hide-input"
    ]
   },
   "outputs": [
    {
     "data": {
      "text/html": [
       "<iframe width=\"560\" height=\"315\" src=\"https://www.youtube.com/embed/5v4nnQ_FctQ\" title=\"YouTube video player\" frameborder=\"0\" allow=\"accelerometer; autoplay; clipboard-write; encrypted-media; gyroscope; picture-in-picture\" allowfullscreen></iframe>"
      ],
      "text/plain": [
       "<IPython.core.display.HTML object>"
      ]
     },
     "execution_count": 3,
     "metadata": {},
     "output_type": "execute_result"
    }
   ],
   "source": [
    "from IPython.display import HTML\n",
    "import warnings\n",
    "warnings.filterwarnings(\"ignore\")\n",
    "\n",
    "# Youtube\n",
    "HTML('<iframe width=\"560\" height=\"315\" src=\"https://www.youtube.com/embed/5v4nnQ_FctQ\" title=\"YouTube video player\" frameborder=\"0\" allow=\"accelerometer; autoplay; clipboard-write; encrypted-media; gyroscope; picture-in-picture\" allowfullscreen></iframe>')"
   ]
  },
  {
   "cell_type": "markdown",
   "id": "e88ddb64",
   "metadata": {},
   "source": [
    "### Conclusions et références suggérées\n",
    "\n",
    "### Références\n",
    "\n",
    "```{bibliography}\n",
    ":filter: docname in docnames\n",
    "```\n",
    "\n",
    "## Exercices\n",
    "On commence par des exercices de révisions, qui concernent la vidéo “resting-state network” suivante:"
   ]
  },
  {
   "cell_type": "code",
   "execution_count": 4,
   "id": "4ff07522",
   "metadata": {
    "tags": [
     "hide-input"
    ]
   },
   "outputs": [
    {
     "data": {
      "text/html": [
       "<iframe width=\"560\" height=\"315\" src=\"https://www.youtube.com/embed/_Iph3WW9UOU?start=18\" title=\"YouTube video player\" frameborder=\"0\" allow=\"accelerometer; autoplay; clipboard-write; encrypted-media; gyroscope; picture-in-picture\" allowfullscreen></iframe>"
      ],
      "text/plain": [
       "<IPython.core.display.HTML object>"
      ]
     },
     "execution_count": 4,
     "metadata": {},
     "output_type": "execute_result"
    }
   ],
   "source": [
    "from IPython.display import HTML\n",
    "import warnings\n",
    "warnings.filterwarnings(\"ignore\")\n",
    "\n",
    "# Youtube\n",
    "HTML('<iframe width=\"560\" height=\"315\" src=\"https://www.youtube.com/embed/_Iph3WW9UOU?start=18\" title=\"YouTube video player\" frameborder=\"0\" allow=\"accelerometer; autoplay; clipboard-write; encrypted-media; gyroscope; picture-in-picture\" allowfullscreen></iframe>')"
   ]
  },
  {
   "cell_type": "markdown",
   "id": "a747bf93",
   "metadata": {},
   "source": [
    "### Exercice 1\n",
    "“La septième jour” (sic), extrait en français: 0:54 - 4:35\n",
    " 1. Qui représente le jeune homme?\n",
    " 2. À quel résultat fait-il référence?\n",
    " 3. Qui représente la jeune femme?\n",
    " 4. À quel résultat fait-elle référence?\n",
    " 5. Pourquoi appeler ce film “la septième jour” (sic) ?\n",
    "\n",
    "### Exercice 2\n",
    "“Neuro-météorologie”: 4:48 - 5:30\n",
    "\n",
    "```{admonition} Traduction de l’extrait\n",
    ":class: tip\n",
    ":name: neuro-meteorologie-tip\n",
    "Regardons quelle activité intrinsèque nous arrive pour cette fin de semaine.\n",
    "Comme vous pouvez le voir ici, le mode par défaut et le réseau “tâche-positif” font leurs affaires habituelles, présent / absent, yin et yang. Cela ressemble à l’activité habituelle de rêverie et de concentration intense pour la fin de semaine.\n",
    "Le mode par défaut semble un peu dominant.\n",
    "Le visuel sera beau, le moteur sera beau, à moins qu’une fluctuation alcoolique soudaine nous arrive du sud.\n",
    "L’imagerie satellite nous indique des turbulences dans la région du précunéus qui pourraient devenir très intéressantes en début de semaine.\n",
    "Mais, comme l’a dit le philosophe latin (Sénèque, NDLR): le repos est loin d’être de tout repos.  \n",
    "```\n",
    " 1. De quels réseaux parle-t-on ici?\n",
    " 2. Pourquoi qualifie-t-il le réseau du mode par défaut et le réseau “tâche-positif” de “Yin and yang”?\n",
    " 3. Est ce qu’il manque des réseaux dans cette prévision?\n",
    " 4. Pourquoi est-ce que les turbulences dans le précunéus (ou plutôt le cortex cingulaire postérieur) sont intéressantes?\n",
    "\n",
    "### Exercice 3\n",
    "“Hardball”: 8:01 - 9:46\n",
    "```{admonition} Traduction de l’extrait\n",
    ":class: tip\n",
    ":name: hardball-tip\n",
    " - Présentateur (Pr): “Bonjour, aujourd’hui nous avons avec nous deux chercheurs distingués, Dr Yann Schnizel et Dr Paul Salami. Prêt à débattre sans compromis?”\n",
    " - Paul Salami (PS): “Je souhaite dire que le développement de la littérature sur le mode par défaut et l’état de repos propose de bonnes questions, de bonnes expériences, et cela bénéficie pour l’essentiel aux jeunes qui démarrent la recherche, mais je ne pense pas personnellement qu’étudier le repos est particulièrement utile. Si vous voulez étudier le comportement, vous le faites de la façon traditionnelle, comme nous le faisions avant, vous le faites expérimentalement.”\n",
    " - Yann Schnizel (YS): “Ce n’est pas le cas! La distinction importante n’est pas entre repos et tâche, mais plutôt entre activité intrinsèque et évoquée.”\n",
    " - PS: “Si nous sommes tous les deux d’accord pour dire que l’activité spontanée est présente dans tous les états cognitifs, je ne vois pas pourquoi nous devrions spécifiquement, je dis bien spécifiquement!, dans un état de repos.”\n",
    " - YS: “Nous ne devons certainement pas l’étudier exclusivement au repos, mais l’état de repos est LA condition dans laquelle ces fluctuations spontanées ont été étudiées de la manière la plus détaillée.”\n",
    " - PS: “Ceci est fondamentalement non-psychologique!”\n",
    " - YS: “Non!”\n",
    " - PS: “non-psychologique!”\n",
    " - YS: “VOUS êtes fondamentalement non-psychologique!”\n",
    " - PS: “au moins j’étudie la cognition durant l’instant où l’événement cognitif se passe.”\n",
    " - Pr: “whaou messieurs, les esprits s’échauffent! Calmons nous un peu. Il semble qu’il ne nous reste plus de temps.”\n",
    "(bataille entre PS et YS)\n",
    " - Pr: “La semaine prochaine, dans “cluster analysis”, nous partirons sur la route avec Michael Milham, chanteur folk légendaire. Il voyage de par le monde pour partager l’histoire des réseaux au repos, en chanson. Merci d’avoir regardé cluster analysis sur le réseau du repos,”\n",
    "```\n",
    " 1. Est-il vrai que l’activité spontanée est présente aussi bien au repos que durant une tâche?\n",
    " 2. Est-il vrai que l’activité spontanée a été principalement étudiée dans un état de repos en IRMf?\n",
    " 3. En quoi est-il “non psychologique” d’étudier une condition de repos?\n",
    " 4. Question ouverte: est ce que l’un d’entre eux a raison? Ou les deux?\n",
    "\n",
    "### Exercice 4\n",
    "Carte de connectivité: vrai/faux\n",
    " 1. Une carte de connectivité change si on change la région cible.\n",
    " 2. Pour définir une région cible, on doit faire une carte d’activation.\n",
    " 3. Une carte de connectivité peut être générée avec un modèle de régression.\n",
    " 4. Une carte de connectivité fonctionnelle présente des valeurs entre 0 et 1.\n",
    " 5. Une carte de connectivité en IRMf est un outil pour identifier le réseau du mode par défaut.\n",
    "\n",
    "### Exercice 5\n",
    "Activité spontanée et évoquée: vrai/faux\n",
    " 1. L’activité spontanée du cerveau ne s’observe que dans un état de repos.\n",
    " 2. L’activité cérébrale évoquée par une tâche peut être caractérisée par une carte d’activation IRMf.\n",
    " 3. L’activité spontanée du cerveau est plus importante au repos que pendant une tâche visuelle dans certaines parties du cerveau.\n",
    "\n",
    "### Exercice 6\n",
    "On souhaite comparer la connectivité fonctionnelle entre des personnes jeunes et âgées.\n",
    " 1. Citer un facteur de confusion potentiel, qui n’est pas lié à l’activité neuronale intrinsèque.\n",
    " 2. On souhaite contrôler l'atrophie globale du cerveau dans cette analyse. Décriver brièvement une procédure statistique permettant de tenir compte de cette atrophie dans une comparaison de groupes."
   ]
  }
 ],
 "metadata": {
  "jupytext": {
   "cell_metadata_filter": "-all",
   "formats": "md:myst",
   "text_representation": {
    "extension": ".md",
    "format_name": "myst",
    "format_version": 0.13,
    "jupytext_version": "1.10.3"
   }
  },
  "kernelspec": {
   "display_name": "Python 3",
   "language": "python",
   "name": "python3"
  },
  "language_info": {
   "codemirror_mode": {
    "name": "ipython",
    "version": 3
   },
   "file_extension": ".py",
   "mimetype": "text/x-python",
   "name": "python",
   "nbconvert_exporter": "python",
   "pygments_lexer": "ipython3",
   "version": "3.8.10"
  },
  "source_map": [
   14,
   46,
   55,
   58,
   67,
   73,
   82,
   94,
   103
  ]
 },
 "nbformat": 4,
 "nbformat_minor": 5
}