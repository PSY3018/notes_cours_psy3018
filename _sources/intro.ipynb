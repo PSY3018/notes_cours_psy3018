{
 "cells": [
  {
   "cell_type": "markdown",
   "id": "55b21384",
   "metadata": {},
   "source": [
    "# Introduction\n",
    "\n",
    "Ce texte contient l'ensemble des notes du cours PSY3018 \"Méthodes en neurosciences cognitives\", donné au baccalauréat en neurosciences cognitives du département de psychologie de l'Université de Montréal. Ce cours présente les principales techniques de neuroimagerie pour étudier la cognition chez l'humain (et l'animal), disposant d'une bonne résolution spatiale:\n",
    " * résonance magnétique (anatomique, fonctionnelle, et de diffusion),\n",
    " * tomographie par émission de positrons,\n",
    " * imagerie optique.\n",
    "\n",
    "Le principal objectif d’apprentissage pour ce cours est l’acquisition de connaissances théoriques sur les bases physiques et physiologiques de différentes techniques de neuroimagerie, ainsi que les principales techniques de traitement d’image et d’analyse statistique qui leur sont associées. Le cours présentera aussi comment ces techniques de neuroimagerie sont appliquées dans le cadre de projets de recherche en neurosciences cognitives, et chaque chapitre comporte une série d'exercices.\n",
    "\n",
    "Le cours est donné principalement par Dr Pierre Bellec, avec des contributions par les auxiliaires de recherche, ainsi que de multiples intervenants supplémentaires. Ces notes de cours bénéficie également du retour constructif des étudiants du cours PSY3018 depuis sa création en 2018. Les contributions générales sont présentées ci dessous. Des contributions spécifiques sont listées au sein de chaque chapitre.\n",
    "\n",
    "<table>\n",
    "  <tr>\n",
    "    <td align=\"center\">\n",
    "      <a href=\"https://github.com/pbellec\">\n",
    "        <img src=\"https://avatars.githubusercontent.com/u/1670887?v=4?s=100\" width=\"100px;\" alt=\"\"/>\n",
    "        <br /><sub><b>Pierre bellec</b></sub>\n",
    "      </a>\n",
    "      <br />\n",
    "        <a title=\"Contenu\">🤔</a>\n",
    "        <a title=\"Code\">💻</a>\n",
    "        <a title=\"Quizz\">⚠️</a>\n",
    "        <a title=\"Révision du texte\">👀</a>\n",
    "    </td>\n",
    "    <td align=\"center\">\n",
    "      <a href=\"https://github.com/eddyfortier\">\n",
    "        <img src=\"https://avatars.githubusercontent.com/u/72314243?v=4?s=100\" width=\"100px;\" alt=\"\"/>\n",
    "        <br /><sub><b>Eddy Fortier</b></sub>\n",
    "      </a>\n",
    "      <br />\n",
    "        <a title=\"Contenu\">🤔</a>\n",
    "        <a title=\"Révision du texte\">👀</a>\n",
    "    </td>\n",
    "    <td align=\"center\">\n",
    "      <a href=\"https://github.com/SamGuay\">\n",
    "        <img src=\"https://avatars.githubusercontent.com/u/30598330?v=4?s=100\" width=\"100px;\" alt=\"\"/>\n",
    "        <br /><sub><b>Samuel Guay</b></sub>\n",
    "      </a>\n",
    "      <br />\n",
    "        <a title=\"Révision du texte\">👀</a>\n",
    "    </td>\n",
    "    <td align=\"center\">\n",
    "      <a href=\"https://github.com/me-pic\">\n",
    "        <img src=\"https://avatars.githubusercontent.com/u/77584086?v=4?s=100\" width=\"100px;\" alt=\"\"/>\n",
    "        <br /><sub><b>Marie-Eve Picard</b></sub>\n",
    "      </a>\n",
    "      <br />\n",
    "        <a title=\"Contenu\">🤔</a>\n",
    "        <a title=\"Révision du texte\">👀</a>\n",
    "    </td>\n",
    "  </tr>\n",
    "</table>\n",
    "\n",
    "Ces notes de cours sont possibles grâce aux projets suivants:\n",
    " * [jupyter book](https://jupyterbook.org) est l'outil utilisé pour générer les notes de cours en utilisant plusieurs formats. Ce projet repose lui-même sur l'outil de documentation [sphynx](https://www.sphinx-doc.org).\n",
    " * La librairie [nilearn](https://nilearn.github.io/) en [python](https://www.python.org/) offre tous les outils de visualisation utilisés dans le cours.\n",
    " * Les visualisations d'images cérébrales utilisées dans le cours proviennent en partie de jeux de données publiques.\n",
    " * Le logo provient du site <a href=\"https://www.vecteezy.com/free-vector/brain\">Brain Vectors by Vecteezy</a>\n",
    " * Certaines images du livre ont été obtenues sous droits illimités pour diffusion web et limités pour impression (500k copies) via [shutterstock](https://www.shutterstock.com) par P. Bellec."
   ]
  }
 ],
 "metadata": {
  "jupytext": {
   "cell_metadata_filter": "-all",
   "formats": "md:myst",
   "text_representation": {
    "extension": ".md",
    "format_name": "myst",
    "format_version": 0.13,
    "jupytext_version": "1.10.3"
   }
  },
  "kernelspec": {
   "display_name": "Python 3",
   "language": "python",
   "name": "python3"
  },
  "language_info": {
   "codemirror_mode": {
    "name": "ipython",
    "version": 3
   },
   "file_extension": ".py",
   "mimetype": "text/x-python",
   "name": "python",
   "nbconvert_exporter": "python",
   "pygments_lexer": "ipython3",
   "version": "3.8.10"
  },
  "source_map": [
   14
  ]
 },
 "nbformat": 4,
 "nbformat_minor": 5
}