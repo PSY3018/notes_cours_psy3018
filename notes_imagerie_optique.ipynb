{
 "cells": [
  {
   "cell_type": "code",
   "execution_count": 1,
   "id": "ba31f35b",
   "metadata": {},
   "outputs": [
    {
     "name": "stdout",
     "output_type": "stream",
     "text": [
      "Loading /home/pbellec/mne_data/MNE-fNIRS-motor-data/Participant-1\n",
      "Reading 0 ... 23238  =      0.000 ...  2974.464 secs...\n",
      "Using pyvistaqt 3d backend.\n",
      "\n",
      "Channel types::\tfnirs_cw_amplitude: 56\n"
     ]
    }
   ],
   "source": [
    "# Importe les librairies\n",
    "import os.path as op\n",
    "import numpy as np\n",
    "import matplotlib.pyplot as plt\n",
    "from itertools import compress\n",
    "import mne\n",
    "\n",
    "# Charge les données\n",
    "fnirs_data_folder = mne.datasets.fnirs_motor.data_path()\n",
    "fnirs_cw_amplitude_dir = op.join(fnirs_data_folder, 'Participant-1')\n",
    "raw_intensity = mne.io.read_raw_nirx(fnirs_cw_amplitude_dir, verbose=True)\n",
    "raw_intensity.load_data()\n",
    "subjects_dir = op.join(mne.datasets.sample.data_path(), 'subjects')\n",
    "\n",
    "# Améliore les annotations du jeu de données\n",
    "raw_intensity.annotations.set_durations(5)\n",
    "raw_intensity.annotations.rename({'1.0': 'Control',\n",
    "                                  '2.0': 'Tapping/Left',\n",
    "                                  '3.0': 'Tapping/Right'})\n",
    "unwanted = np.nonzero(raw_intensity.annotations.description == '15.0')\n",
    "raw_intensity.annotations.delete(unwanted)\n",
    "\n",
    "# Visualize le montage\n",
    "\n",
    "brain = mne.viz.Brain(\n",
    "    'fsaverage', subjects_dir=subjects_dir, background='w', cortex='0.5')\n",
    "brain.add_sensors(\n",
    "    raw_intensity.info, trans='fsaverage',\n",
    "    fnirs=['channels', 'pairs', 'sources', 'detectors'])\n",
    "brain.show_view(azimuth=20, elevation=60, distance=400)"
   ]
  },
  {
   "cell_type": "code",
   "execution_count": null,
   "id": "2e9af195",
   "metadata": {},
   "outputs": [],
   "source": [
    "montage = mne.channels.make_standard_montage('artinis-octamon')\n",
    "raw.set_montage(montage)\n",
    "\n",
    "# View the position of optodes in 2D to confirm the positions are correct.\n",
    "raw.plot_sensors()"
   ]
  }
 ],
 "metadata": {
  "kernelspec": {
   "display_name": "Python 3",
   "language": "python",
   "name": "python3"
  },
  "language_info": {
   "codemirror_mode": {
    "name": "ipython",
    "version": 3
   },
   "file_extension": ".py",
   "mimetype": "text/x-python",
   "name": "python",
   "nbconvert_exporter": "python",
   "pygments_lexer": "ipython3",
   "version": "3.8.10"
  }
 },
 "nbformat": 4,
 "nbformat_minor": 5
}
